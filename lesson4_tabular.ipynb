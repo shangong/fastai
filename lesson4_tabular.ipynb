{
  "nbformat": 4,
  "nbformat_minor": 0,
  "metadata": {
    "kernelspec": {
      "name": "python3",
      "display_name": "Python 3"
    },
    "colab": {
      "name": "lesson4-tabular.ipynb",
      "provenance": [],
      "collapsed_sections": [],
      "toc_visible": true
    },
    "accelerator": "GPU"
  },
  "cells": [
    {
      "cell_type": "code",
      "metadata": {
        "id": "QVgErhS8VANH",
        "colab_type": "code",
        "colab": {
          "base_uri": "https://localhost:8080/",
          "height": 51
        },
        "outputId": "de87ba6d-7073-49b3-ac49-f3fed07e2938"
      },
      "source": [
        "!curl -s https://course.fast.ai/setup/colab | bash"
      ],
      "execution_count": 1,
      "outputs": [
        {
          "output_type": "stream",
          "text": [
            "Updating fastai...\n",
            "Done.\n"
          ],
          "name": "stdout"
        }
      ]
    },
    {
      "cell_type": "code",
      "metadata": {
        "id": "zQO2rKKlVKFS",
        "colab_type": "code",
        "colab": {
          "base_uri": "https://localhost:8080/",
          "height": 122
        },
        "outputId": "db881aeb-dd31-45db-b8d6-f41f5a4d0d37"
      },
      "source": [
        "from google.colab import drive\n",
        "drive.mount('/content/gdrive', force_remount=True)\n",
        "root_dir = \"/content/gdrive/My Drive/\"\n",
        "base_dir = root_dir + 'fastai/'"
      ],
      "execution_count": 2,
      "outputs": [
        {
          "output_type": "stream",
          "text": [
            "Go to this URL in a browser: https://accounts.google.com/o/oauth2/auth?client_id=947318989803-6bn6qk8qdgf4n4g3pfee6491hc0brc4i.apps.googleusercontent.com&redirect_uri=urn%3aietf%3awg%3aoauth%3a2.0%3aoob&response_type=code&scope=email%20https%3a%2f%2fwww.googleapis.com%2fauth%2fdocs.test%20https%3a%2f%2fwww.googleapis.com%2fauth%2fdrive%20https%3a%2f%2fwww.googleapis.com%2fauth%2fdrive.photos.readonly%20https%3a%2f%2fwww.googleapis.com%2fauth%2fpeopleapi.readonly\n",
            "\n",
            "Enter your authorization code:\n",
            "··········\n",
            "Mounted at /content/gdrive\n"
          ],
          "name": "stdout"
        }
      ]
    },
    {
      "cell_type": "markdown",
      "metadata": {
        "id": "giFxvovEU5Z8",
        "colab_type": "text"
      },
      "source": [
        "# Tabular models"
      ]
    },
    {
      "cell_type": "code",
      "metadata": {
        "id": "L6w_JYrbU5aA",
        "colab_type": "code",
        "colab": {}
      },
      "source": [
        "from fastai.tabular import *"
      ],
      "execution_count": 3,
      "outputs": []
    },
    {
      "cell_type": "markdown",
      "metadata": {
        "id": "LOnAXarRU5aH",
        "colab_type": "text"
      },
      "source": [
        "Tabular data should be in a Pandas `DataFrame`."
      ]
    },
    {
      "cell_type": "code",
      "metadata": {
        "id": "ThlHXXmkU5aI",
        "colab_type": "code",
        "colab": {
          "base_uri": "https://localhost:8080/",
          "height": 34
        },
        "outputId": "eb45785d-38e3-47c4-d337-0477725eb0d8"
      },
      "source": [
        "path = untar_data(URLs.ADULT_SAMPLE)\n",
        "df = pd.read_csv(path/'adult.csv')"
      ],
      "execution_count": 4,
      "outputs": [
        {
          "output_type": "stream",
          "text": [
            "Downloading http://files.fast.ai/data/examples/adult_sample.tgz\n"
          ],
          "name": "stdout"
        },
        {
          "output_type": "display_data",
          "data": {
            "text/html": [
              ""
            ],
            "text/plain": [
              "<IPython.core.display.HTML object>"
            ]
          },
          "metadata": {
            "tags": []
          }
        }
      ]
    },
    {
      "cell_type": "markdown",
      "metadata": {
        "id": "uy1dEzFnjzTH",
        "colab_type": "text"
      },
      "source": [
        "Understand the data from adult sample a little more."
      ]
    },
    {
      "cell_type": "code",
      "metadata": {
        "id": "Oi-A3g8ljvef",
        "colab_type": "code",
        "colab": {
          "base_uri": "https://localhost:8080/",
          "height": 600
        },
        "outputId": "f65a8f2a-515c-4329-ba86-3c74a84ff583"
      },
      "source": [
        "df.head(10)"
      ],
      "execution_count": 5,
      "outputs": [
        {
          "output_type": "execute_result",
          "data": {
            "text/html": [
              "<div>\n",
              "<style scoped>\n",
              "    .dataframe tbody tr th:only-of-type {\n",
              "        vertical-align: middle;\n",
              "    }\n",
              "\n",
              "    .dataframe tbody tr th {\n",
              "        vertical-align: top;\n",
              "    }\n",
              "\n",
              "    .dataframe thead th {\n",
              "        text-align: right;\n",
              "    }\n",
              "</style>\n",
              "<table border=\"1\" class=\"dataframe\">\n",
              "  <thead>\n",
              "    <tr style=\"text-align: right;\">\n",
              "      <th></th>\n",
              "      <th>age</th>\n",
              "      <th>workclass</th>\n",
              "      <th>fnlwgt</th>\n",
              "      <th>education</th>\n",
              "      <th>education-num</th>\n",
              "      <th>marital-status</th>\n",
              "      <th>occupation</th>\n",
              "      <th>relationship</th>\n",
              "      <th>race</th>\n",
              "      <th>sex</th>\n",
              "      <th>capital-gain</th>\n",
              "      <th>capital-loss</th>\n",
              "      <th>hours-per-week</th>\n",
              "      <th>native-country</th>\n",
              "      <th>salary</th>\n",
              "    </tr>\n",
              "  </thead>\n",
              "  <tbody>\n",
              "    <tr>\n",
              "      <th>0</th>\n",
              "      <td>49</td>\n",
              "      <td>Private</td>\n",
              "      <td>101320</td>\n",
              "      <td>Assoc-acdm</td>\n",
              "      <td>12.0</td>\n",
              "      <td>Married-civ-spouse</td>\n",
              "      <td>NaN</td>\n",
              "      <td>Wife</td>\n",
              "      <td>White</td>\n",
              "      <td>Female</td>\n",
              "      <td>0</td>\n",
              "      <td>1902</td>\n",
              "      <td>40</td>\n",
              "      <td>United-States</td>\n",
              "      <td>&gt;=50k</td>\n",
              "    </tr>\n",
              "    <tr>\n",
              "      <th>1</th>\n",
              "      <td>44</td>\n",
              "      <td>Private</td>\n",
              "      <td>236746</td>\n",
              "      <td>Masters</td>\n",
              "      <td>14.0</td>\n",
              "      <td>Divorced</td>\n",
              "      <td>Exec-managerial</td>\n",
              "      <td>Not-in-family</td>\n",
              "      <td>White</td>\n",
              "      <td>Male</td>\n",
              "      <td>10520</td>\n",
              "      <td>0</td>\n",
              "      <td>45</td>\n",
              "      <td>United-States</td>\n",
              "      <td>&gt;=50k</td>\n",
              "    </tr>\n",
              "    <tr>\n",
              "      <th>2</th>\n",
              "      <td>38</td>\n",
              "      <td>Private</td>\n",
              "      <td>96185</td>\n",
              "      <td>HS-grad</td>\n",
              "      <td>NaN</td>\n",
              "      <td>Divorced</td>\n",
              "      <td>NaN</td>\n",
              "      <td>Unmarried</td>\n",
              "      <td>Black</td>\n",
              "      <td>Female</td>\n",
              "      <td>0</td>\n",
              "      <td>0</td>\n",
              "      <td>32</td>\n",
              "      <td>United-States</td>\n",
              "      <td>&lt;50k</td>\n",
              "    </tr>\n",
              "    <tr>\n",
              "      <th>3</th>\n",
              "      <td>38</td>\n",
              "      <td>Self-emp-inc</td>\n",
              "      <td>112847</td>\n",
              "      <td>Prof-school</td>\n",
              "      <td>15.0</td>\n",
              "      <td>Married-civ-spouse</td>\n",
              "      <td>Prof-specialty</td>\n",
              "      <td>Husband</td>\n",
              "      <td>Asian-Pac-Islander</td>\n",
              "      <td>Male</td>\n",
              "      <td>0</td>\n",
              "      <td>0</td>\n",
              "      <td>40</td>\n",
              "      <td>United-States</td>\n",
              "      <td>&gt;=50k</td>\n",
              "    </tr>\n",
              "    <tr>\n",
              "      <th>4</th>\n",
              "      <td>42</td>\n",
              "      <td>Self-emp-not-inc</td>\n",
              "      <td>82297</td>\n",
              "      <td>7th-8th</td>\n",
              "      <td>NaN</td>\n",
              "      <td>Married-civ-spouse</td>\n",
              "      <td>Other-service</td>\n",
              "      <td>Wife</td>\n",
              "      <td>Black</td>\n",
              "      <td>Female</td>\n",
              "      <td>0</td>\n",
              "      <td>0</td>\n",
              "      <td>50</td>\n",
              "      <td>United-States</td>\n",
              "      <td>&lt;50k</td>\n",
              "    </tr>\n",
              "    <tr>\n",
              "      <th>5</th>\n",
              "      <td>20</td>\n",
              "      <td>Private</td>\n",
              "      <td>63210</td>\n",
              "      <td>HS-grad</td>\n",
              "      <td>9.0</td>\n",
              "      <td>Never-married</td>\n",
              "      <td>Handlers-cleaners</td>\n",
              "      <td>Own-child</td>\n",
              "      <td>White</td>\n",
              "      <td>Male</td>\n",
              "      <td>0</td>\n",
              "      <td>0</td>\n",
              "      <td>15</td>\n",
              "      <td>United-States</td>\n",
              "      <td>&lt;50k</td>\n",
              "    </tr>\n",
              "    <tr>\n",
              "      <th>6</th>\n",
              "      <td>49</td>\n",
              "      <td>Private</td>\n",
              "      <td>44434</td>\n",
              "      <td>Some-college</td>\n",
              "      <td>10.0</td>\n",
              "      <td>Divorced</td>\n",
              "      <td>NaN</td>\n",
              "      <td>Other-relative</td>\n",
              "      <td>White</td>\n",
              "      <td>Male</td>\n",
              "      <td>0</td>\n",
              "      <td>0</td>\n",
              "      <td>35</td>\n",
              "      <td>United-States</td>\n",
              "      <td>&lt;50k</td>\n",
              "    </tr>\n",
              "    <tr>\n",
              "      <th>7</th>\n",
              "      <td>37</td>\n",
              "      <td>Private</td>\n",
              "      <td>138940</td>\n",
              "      <td>11th</td>\n",
              "      <td>7.0</td>\n",
              "      <td>Married-civ-spouse</td>\n",
              "      <td>NaN</td>\n",
              "      <td>Husband</td>\n",
              "      <td>White</td>\n",
              "      <td>Male</td>\n",
              "      <td>0</td>\n",
              "      <td>0</td>\n",
              "      <td>40</td>\n",
              "      <td>United-States</td>\n",
              "      <td>&lt;50k</td>\n",
              "    </tr>\n",
              "    <tr>\n",
              "      <th>8</th>\n",
              "      <td>46</td>\n",
              "      <td>Private</td>\n",
              "      <td>328216</td>\n",
              "      <td>HS-grad</td>\n",
              "      <td>9.0</td>\n",
              "      <td>Married-civ-spouse</td>\n",
              "      <td>Craft-repair</td>\n",
              "      <td>Husband</td>\n",
              "      <td>White</td>\n",
              "      <td>Male</td>\n",
              "      <td>0</td>\n",
              "      <td>0</td>\n",
              "      <td>40</td>\n",
              "      <td>United-States</td>\n",
              "      <td>&gt;=50k</td>\n",
              "    </tr>\n",
              "    <tr>\n",
              "      <th>9</th>\n",
              "      <td>36</td>\n",
              "      <td>Self-emp-inc</td>\n",
              "      <td>216711</td>\n",
              "      <td>HS-grad</td>\n",
              "      <td>NaN</td>\n",
              "      <td>Married-civ-spouse</td>\n",
              "      <td>NaN</td>\n",
              "      <td>Husband</td>\n",
              "      <td>White</td>\n",
              "      <td>Male</td>\n",
              "      <td>99999</td>\n",
              "      <td>0</td>\n",
              "      <td>50</td>\n",
              "      <td>?</td>\n",
              "      <td>&gt;=50k</td>\n",
              "    </tr>\n",
              "  </tbody>\n",
              "</table>\n",
              "</div>"
            ],
            "text/plain": [
              "   age          workclass  fnlwgt  ... hours-per-week  native-country salary\n",
              "0   49            Private  101320  ...             40   United-States  >=50k\n",
              "1   44            Private  236746  ...             45   United-States  >=50k\n",
              "2   38            Private   96185  ...             32   United-States   <50k\n",
              "3   38       Self-emp-inc  112847  ...             40   United-States  >=50k\n",
              "4   42   Self-emp-not-inc   82297  ...             50   United-States   <50k\n",
              "5   20            Private   63210  ...             15   United-States   <50k\n",
              "6   49            Private   44434  ...             35   United-States   <50k\n",
              "7   37            Private  138940  ...             40   United-States   <50k\n",
              "8   46            Private  328216  ...             40   United-States  >=50k\n",
              "9   36       Self-emp-inc  216711  ...             50               ?  >=50k\n",
              "\n",
              "[10 rows x 15 columns]"
            ]
          },
          "metadata": {
            "tags": []
          },
          "execution_count": 5
        }
      ]
    },
    {
      "cell_type": "code",
      "metadata": {
        "id": "Al6hEdU2kyCM",
        "colab_type": "code",
        "colab": {
          "base_uri": "https://localhost:8080/",
          "height": 255
        },
        "outputId": "6828a151-1855-456b-b830-239bc0a24ed6"
      },
      "source": [
        "df.info"
      ],
      "execution_count": 6,
      "outputs": [
        {
          "output_type": "execute_result",
          "data": {
            "text/plain": [
              "<bound method DataFrame.info of        age          workclass  fnlwgt  ... hours-per-week  native-country salary\n",
              "0       49            Private  101320  ...             40   United-States  >=50k\n",
              "1       44            Private  236746  ...             45   United-States  >=50k\n",
              "2       38            Private   96185  ...             32   United-States   <50k\n",
              "3       38       Self-emp-inc  112847  ...             40   United-States  >=50k\n",
              "4       42   Self-emp-not-inc   82297  ...             50   United-States   <50k\n",
              "...    ...                ...     ...  ...            ...             ...    ...\n",
              "32556   36            Private  297449  ...             40   United-States  >=50k\n",
              "32557   23                  ?  123983  ...             40   United-States   <50k\n",
              "32558   53            Private  157069  ...             40   United-States  >=50k\n",
              "32559   32          Local-gov  217296  ...             22   United-States   <50k\n",
              "32560   26            Private  182308  ...             40   United-States   <50k\n",
              "\n",
              "[32561 rows x 15 columns]>"
            ]
          },
          "metadata": {
            "tags": []
          },
          "execution_count": 6
        }
      ]
    },
    {
      "cell_type": "code",
      "metadata": {
        "id": "EGHRQ1W5j62A",
        "colab_type": "code",
        "colab": {
          "base_uri": "https://localhost:8080/",
          "height": 255
        },
        "outputId": "1830337e-4866-4fc4-e38d-8e320c9a6068"
      },
      "source": [
        "df.describe"
      ],
      "execution_count": 7,
      "outputs": [
        {
          "output_type": "execute_result",
          "data": {
            "text/plain": [
              "<bound method NDFrame.describe of        age          workclass  fnlwgt  ... hours-per-week  native-country salary\n",
              "0       49            Private  101320  ...             40   United-States  >=50k\n",
              "1       44            Private  236746  ...             45   United-States  >=50k\n",
              "2       38            Private   96185  ...             32   United-States   <50k\n",
              "3       38       Self-emp-inc  112847  ...             40   United-States  >=50k\n",
              "4       42   Self-emp-not-inc   82297  ...             50   United-States   <50k\n",
              "...    ...                ...     ...  ...            ...             ...    ...\n",
              "32556   36            Private  297449  ...             40   United-States  >=50k\n",
              "32557   23                  ?  123983  ...             40   United-States   <50k\n",
              "32558   53            Private  157069  ...             40   United-States  >=50k\n",
              "32559   32          Local-gov  217296  ...             22   United-States   <50k\n",
              "32560   26            Private  182308  ...             40   United-States   <50k\n",
              "\n",
              "[32561 rows x 15 columns]>"
            ]
          },
          "metadata": {
            "tags": []
          },
          "execution_count": 7
        }
      ]
    },
    {
      "cell_type": "code",
      "metadata": {
        "id": "TZnwPtDjkkRc",
        "colab_type": "code",
        "colab": {
          "base_uri": "https://localhost:8080/",
          "height": 102
        },
        "outputId": "9f1d0308-7e88-498b-c0f7-97bdb16ef00f"
      },
      "source": [
        "df.columns"
      ],
      "execution_count": 8,
      "outputs": [
        {
          "output_type": "execute_result",
          "data": {
            "text/plain": [
              "Index(['age', 'workclass', 'fnlwgt', 'education', 'education-num',\n",
              "       'marital-status', 'occupation', 'relationship', 'race', 'sex',\n",
              "       'capital-gain', 'capital-loss', 'hours-per-week', 'native-country',\n",
              "       'salary'],\n",
              "      dtype='object')"
            ]
          },
          "metadata": {
            "tags": []
          },
          "execution_count": 8
        }
      ]
    },
    {
      "cell_type": "markdown",
      "metadata": {
        "id": "Jdnsu5y9lFQB",
        "colab_type": "text"
      },
      "source": [
        "Checking for correlations between data."
      ]
    },
    {
      "cell_type": "code",
      "metadata": {
        "id": "ePX_mKFukm75",
        "colab_type": "code",
        "colab": {
          "base_uri": "https://localhost:8080/",
          "height": 235
        },
        "outputId": "006dec11-51fa-4e22-dbcb-9501d82003c9"
      },
      "source": [
        "df[['salary','age', 'workclass', 'fnlwgt', 'education', 'education-num', 'marital-status', 'occupation', 'relationship', 'race', 'sex', 'capital-gain', 'capital-loss', 'hours-per-week', 'native-country']].corr()"
      ],
      "execution_count": 10,
      "outputs": [
        {
          "output_type": "execute_result",
          "data": {
            "text/html": [
              "<div>\n",
              "<style scoped>\n",
              "    .dataframe tbody tr th:only-of-type {\n",
              "        vertical-align: middle;\n",
              "    }\n",
              "\n",
              "    .dataframe tbody tr th {\n",
              "        vertical-align: top;\n",
              "    }\n",
              "\n",
              "    .dataframe thead th {\n",
              "        text-align: right;\n",
              "    }\n",
              "</style>\n",
              "<table border=\"1\" class=\"dataframe\">\n",
              "  <thead>\n",
              "    <tr style=\"text-align: right;\">\n",
              "      <th></th>\n",
              "      <th>age</th>\n",
              "      <th>fnlwgt</th>\n",
              "      <th>education-num</th>\n",
              "      <th>capital-gain</th>\n",
              "      <th>capital-loss</th>\n",
              "      <th>hours-per-week</th>\n",
              "    </tr>\n",
              "  </thead>\n",
              "  <tbody>\n",
              "    <tr>\n",
              "      <th>age</th>\n",
              "      <td>1.000000</td>\n",
              "      <td>-0.076646</td>\n",
              "      <td>0.036382</td>\n",
              "      <td>0.077674</td>\n",
              "      <td>0.057775</td>\n",
              "      <td>0.068756</td>\n",
              "    </tr>\n",
              "    <tr>\n",
              "      <th>fnlwgt</th>\n",
              "      <td>-0.076646</td>\n",
              "      <td>1.000000</td>\n",
              "      <td>-0.043288</td>\n",
              "      <td>0.000432</td>\n",
              "      <td>-0.010252</td>\n",
              "      <td>-0.018768</td>\n",
              "    </tr>\n",
              "    <tr>\n",
              "      <th>education-num</th>\n",
              "      <td>0.036382</td>\n",
              "      <td>-0.043288</td>\n",
              "      <td>1.000000</td>\n",
              "      <td>0.122362</td>\n",
              "      <td>0.079449</td>\n",
              "      <td>0.147557</td>\n",
              "    </tr>\n",
              "    <tr>\n",
              "      <th>capital-gain</th>\n",
              "      <td>0.077674</td>\n",
              "      <td>0.000432</td>\n",
              "      <td>0.122362</td>\n",
              "      <td>1.000000</td>\n",
              "      <td>-0.031615</td>\n",
              "      <td>0.078409</td>\n",
              "    </tr>\n",
              "    <tr>\n",
              "      <th>capital-loss</th>\n",
              "      <td>0.057775</td>\n",
              "      <td>-0.010252</td>\n",
              "      <td>0.079449</td>\n",
              "      <td>-0.031615</td>\n",
              "      <td>1.000000</td>\n",
              "      <td>0.054256</td>\n",
              "    </tr>\n",
              "    <tr>\n",
              "      <th>hours-per-week</th>\n",
              "      <td>0.068756</td>\n",
              "      <td>-0.018768</td>\n",
              "      <td>0.147557</td>\n",
              "      <td>0.078409</td>\n",
              "      <td>0.054256</td>\n",
              "      <td>1.000000</td>\n",
              "    </tr>\n",
              "  </tbody>\n",
              "</table>\n",
              "</div>"
            ],
            "text/plain": [
              "                     age    fnlwgt  ...  capital-loss  hours-per-week\n",
              "age             1.000000 -0.076646  ...      0.057775        0.068756\n",
              "fnlwgt         -0.076646  1.000000  ...     -0.010252       -0.018768\n",
              "education-num   0.036382 -0.043288  ...      0.079449        0.147557\n",
              "capital-gain    0.077674  0.000432  ...     -0.031615        0.078409\n",
              "capital-loss    0.057775 -0.010252  ...      1.000000        0.054256\n",
              "hours-per-week  0.068756 -0.018768  ...      0.054256        1.000000\n",
              "\n",
              "[6 rows x 6 columns]"
            ]
          },
          "metadata": {
            "tags": []
          },
          "execution_count": 10
        }
      ]
    },
    {
      "cell_type": "code",
      "metadata": {
        "id": "BoIMheK9muql",
        "colab_type": "code",
        "colab": {
          "base_uri": "https://localhost:8080/",
          "height": 1000
        },
        "outputId": "b10970c8-3d8a-4ee8-e4cd-1d9fa0c14d66"
      },
      "source": [
        "import seaborn as sns\n",
        "\n",
        "# Categorical variables\n",
        "df_categorical = df[['workclass',\n",
        "                    'education',\n",
        "                    'marital-status',\n",
        "                    'occupation',\n",
        "                    'relationship',\n",
        "                    'race',\n",
        "                    'sex',\n",
        "                    'native-country'\n",
        "                    ]]\n",
        "\n",
        "for i in df_categorical.columns:\n",
        "    cat_num = df_categorical[i].value_counts()\n",
        "    print(\"Graph for %s: total = %d\" % (i,len(cat_num)))\n",
        "    chart = sns.barplot(x = cat_num.index, y = cat_num)\n",
        "    chart.set_xticklabels(chart.get_xticklabels(),rotation = 90)\n",
        "    plt.show()"
      ],
      "execution_count": 9,
      "outputs": [
        {
          "output_type": "stream",
          "text": [
            "/usr/local/lib/python3.6/dist-packages/statsmodels/tools/_testing.py:19: FutureWarning: pandas.util.testing is deprecated. Use the functions in the public API at pandas.testing instead.\n",
            "  import pandas.util.testing as tm\n"
          ],
          "name": "stderr"
        },
        {
          "output_type": "stream",
          "text": [
            "Graph for workclass: total = 9\n"
          ],
          "name": "stdout"
        },
        {
          "output_type": "display_data",
          "data": {
            "image/png": "[encoded data removed]",
            "text/plain": [
              "<Figure size 432x288 with 1 Axes>"
            ]
          },
          "metadata": {
            "tags": [],
            "needs_background": "light"
          }
        },
        {
          "output_type": "stream",
          "text": [
            "Graph for education: total = 16\n"
          ],
          "name": "stdout"
        },
        {
          "output_type": "display_data",
          "data": {
            "image/png": "[encoded data removed]",
            "text/plain": [
              "<Figure size 432x288 with 1 Axes>"
            ]
          },
          "metadata": {
            "tags": [],
            "needs_background": "light"
          }
        },
        {
          "output_type": "stream",
          "text": [
            "Graph for marital-status: total = 7\n"
          ],
          "name": "stdout"
        },
        {
          "output_type": "display_data",
          "data": {
            "image/png": "[encoded data removed]",
            "text/plain": [
              "<Figure size 432x288 with 1 Axes>"
            ]
          },
          "metadata": {
            "tags": [],
            "needs_background": "light"
          }
        },
        {
          "output_type": "stream",
          "text": [
            "Graph for occupation: total = 15\n"
          ],
          "name": "stdout"
        },
        {
          "output_type": "display_data",
          "data": {
            "image/png": "[encoded data removed]",
            "text/plain": [
              "<Figure size 432x288 with 1 Axes>"
            ]
          },
          "metadata": {
            "tags": [],
            "needs_background": "light"
          }
        },
        {
          "output_type": "stream",
          "text": [
            "Graph for relationship: total = 6\n"
          ],
          "name": "stdout"
        },
        {
          "output_type": "display_data",
          "data": {
            "image/png": "[encoded data removed]",
            "text/plain": [
              "<Figure size 432x288 with 1 Axes>"
            ]
          },
          "metadata": {
            "tags": [],
            "needs_background": "light"
          }
        },
        {
          "output_type": "stream",
          "text": [
            "Graph for race: total = 5\n"
          ],
          "name": "stdout"
        },
        {
          "output_type": "display_data",
          "data": {
            "image/png": "[encoded data removed]",
            "text/plain": [
              "<Figure size 432x288 with 1 Axes>"
            ]
          },
          "metadata": {
            "tags": [],
            "needs_background": "light"
          }
        },
        {
          "output_type": "stream",
          "text": [
            "Graph for sex: total = 2\n"
          ],
          "name": "stdout"
        },
        {
          "output_type": "display_data",
          "data": {
            "image/png": "[encoded data removed]",
            "text/plain": [
              "<Figure size 432x288 with 1 Axes>"
            ]
          },
          "metadata": {
            "tags": [],
            "needs_background": "light"
          }
        },
        {
          "output_type": "stream",
          "text": [
            "Graph for native-country: total = 42\n"
          ],
          "name": "stdout"
        },
        {
          "output_type": "display_data",
          "data": {
            "image/png": "[encoded data removed]",
            "text/plain": [
              "<Figure size 432x288 with 1 Axes>"
            ]
          },
          "metadata": {
            "tags": [],
            "needs_background": "light"
          }
        }
      ]
    },
    {
      "cell_type": "markdown",
      "metadata": {
        "id": "PUD7JtxTkSno",
        "colab_type": "text"
      },
      "source": [
        "Train the model to predict if salary will be above 50k."
      ]
    },
    {
      "cell_type": "code",
      "metadata": {
        "id": "m3eoqP-9U5aM",
        "colab_type": "code",
        "colab": {}
      },
      "source": [
        "dep_var = 'salary'\n",
        "cat_names = ['workclass', 'education', 'marital-status', 'occupation', 'relationship', 'race', 'sex', 'native-country']\n",
        "cont_names = ['age', 'fnlwgt', 'education-num', 'capital-gain', 'capital-loss', 'hours-per-week']\n",
        "procs = [FillMissing, Categorify, Normalize]"
      ],
      "execution_count": 15,
      "outputs": []
    },
    {
      "cell_type": "code",
      "metadata": {
        "id": "H0WZXmjHU5aO",
        "colab_type": "code",
        "colab": {}
      },
      "source": [
        "test = TabularList.from_df(df.iloc[800:1000].copy(), path=path, cat_names=cat_names, cont_names=cont_names)"
      ],
      "execution_count": 17,
      "outputs": []
    },
    {
      "cell_type": "code",
      "metadata": {
        "id": "jVEb9D1wU5aQ",
        "colab_type": "code",
        "colab": {}
      },
      "source": [
        "data = (TabularList.from_df(df, path=path, cat_names=cat_names, cont_names=cont_names, procs=procs)\n",
        "                           .split_by_idx(list(range(800,1000)))\n",
        "                           .label_from_df(cols=dep_var)\n",
        "                           .add_test(test)\n",
        "                           .databunch())"
      ],
      "execution_count": 18,
      "outputs": []
    },
    {
      "cell_type": "code",
      "metadata": {
        "id": "2K4glvO-U5aS",
        "colab_type": "code",
        "colab": {
          "base_uri": "https://localhost:8080/",
          "height": 583
        },
        "outputId": "35d9818d-7b9d-4a2d-f056-8d5cd135286c"
      },
      "source": [
        "data.show_batch(rows=10)"
      ],
      "execution_count": 19,
      "outputs": [
        {
          "output_type": "display_data",
          "data": {
            "text/html": [
              "<table border=\"1\" class=\"dataframe\">\n",
              "  <thead>\n",
              "    <tr style=\"text-align: right;\">\n",
              "      <th>workclass</th>\n",
              "      <th>education</th>\n",
              "      <th>marital-status</th>\n",
              "      <th>occupation</th>\n",
              "      <th>relationship</th>\n",
              "      <th>race</th>\n",
              "      <th>sex</th>\n",
              "      <th>native-country</th>\n",
              "      <th>education-num_na</th>\n",
              "      <th>age</th>\n",
              "      <th>fnlwgt</th>\n",
              "      <th>education-num</th>\n",
              "      <th>capital-gain</th>\n",
              "      <th>capital-loss</th>\n",
              "      <th>hours-per-week</th>\n",
              "      <th>target</th>\n",
              "    </tr>\n",
              "  </thead>\n",
              "  <tbody>\n",
              "    <tr>\n",
              "      <td>Private</td>\n",
              "      <td>HS-grad</td>\n",
              "      <td>Widowed</td>\n",
              "      <td>Sales</td>\n",
              "      <td>Not-in-family</td>\n",
              "      <td>White</td>\n",
              "      <td>Female</td>\n",
              "      <td>United-States</td>\n",
              "      <td>False</td>\n",
              "      <td>1.4229</td>\n",
              "      <td>-0.2523</td>\n",
              "      <td>-0.4224</td>\n",
              "      <td>-0.1459</td>\n",
              "      <td>-0.2164</td>\n",
              "      <td>-0.4406</td>\n",
              "      <td>&gt;=50k</td>\n",
              "    </tr>\n",
              "    <tr>\n",
              "      <td>State-gov</td>\n",
              "      <td>Doctorate</td>\n",
              "      <td>Married-civ-spouse</td>\n",
              "      <td>Prof-specialty</td>\n",
              "      <td>Husband</td>\n",
              "      <td>White</td>\n",
              "      <td>Male</td>\n",
              "      <td>United-States</td>\n",
              "      <td>False</td>\n",
              "      <td>2.2292</td>\n",
              "      <td>0.1266</td>\n",
              "      <td>2.3157</td>\n",
              "      <td>-0.1459</td>\n",
              "      <td>-0.2164</td>\n",
              "      <td>0.7743</td>\n",
              "      <td>&gt;=50k</td>\n",
              "    </tr>\n",
              "    <tr>\n",
              "      <td>Self-emp-not-inc</td>\n",
              "      <td>Bachelors</td>\n",
              "      <td>Divorced</td>\n",
              "      <td>Exec-managerial</td>\n",
              "      <td>Unmarried</td>\n",
              "      <td>Black</td>\n",
              "      <td>Female</td>\n",
              "      <td>United-States</td>\n",
              "      <td>False</td>\n",
              "      <td>-0.4828</td>\n",
              "      <td>0.7342</td>\n",
              "      <td>1.1422</td>\n",
              "      <td>-0.1459</td>\n",
              "      <td>-0.2164</td>\n",
              "      <td>-0.8456</td>\n",
              "      <td>&lt;50k</td>\n",
              "    </tr>\n",
              "    <tr>\n",
              "      <td>Self-emp-not-inc</td>\n",
              "      <td>Assoc-voc</td>\n",
              "      <td>Married-civ-spouse</td>\n",
              "      <td>Farming-fishing</td>\n",
              "      <td>Husband</td>\n",
              "      <td>White</td>\n",
              "      <td>Male</td>\n",
              "      <td>United-States</td>\n",
              "      <td>False</td>\n",
              "      <td>0.1769</td>\n",
              "      <td>-1.4903</td>\n",
              "      <td>0.3599</td>\n",
              "      <td>-0.1459</td>\n",
              "      <td>-0.2164</td>\n",
              "      <td>0.3694</td>\n",
              "      <td>&lt;50k</td>\n",
              "    </tr>\n",
              "    <tr>\n",
              "      <td>Self-emp-not-inc</td>\n",
              "      <td>HS-grad</td>\n",
              "      <td>Never-married</td>\n",
              "      <td>Craft-repair</td>\n",
              "      <td>Not-in-family</td>\n",
              "      <td>White</td>\n",
              "      <td>Male</td>\n",
              "      <td>United-States</td>\n",
              "      <td>False</td>\n",
              "      <td>0.7632</td>\n",
              "      <td>-0.6269</td>\n",
              "      <td>-0.4224</td>\n",
              "      <td>-0.1459</td>\n",
              "      <td>-0.2164</td>\n",
              "      <td>-0.8456</td>\n",
              "      <td>&lt;50k</td>\n",
              "    </tr>\n",
              "    <tr>\n",
              "      <td>Private</td>\n",
              "      <td>Some-college</td>\n",
              "      <td>Never-married</td>\n",
              "      <td>Sales</td>\n",
              "      <td>Own-child</td>\n",
              "      <td>White</td>\n",
              "      <td>Female</td>\n",
              "      <td>United-States</td>\n",
              "      <td>False</td>\n",
              "      <td>-1.1425</td>\n",
              "      <td>-0.7304</td>\n",
              "      <td>-0.0312</td>\n",
              "      <td>-0.1459</td>\n",
              "      <td>-0.2164</td>\n",
              "      <td>-2.3036</td>\n",
              "      <td>&lt;50k</td>\n",
              "    </tr>\n",
              "    <tr>\n",
              "      <td>Private</td>\n",
              "      <td>HS-grad</td>\n",
              "      <td>Married-civ-spouse</td>\n",
              "      <td>Machine-op-inspct</td>\n",
              "      <td>Husband</td>\n",
              "      <td>White</td>\n",
              "      <td>Male</td>\n",
              "      <td>United-States</td>\n",
              "      <td>False</td>\n",
              "      <td>-0.1896</td>\n",
              "      <td>-0.1924</td>\n",
              "      <td>-0.4224</td>\n",
              "      <td>0.8396</td>\n",
              "      <td>-0.2164</td>\n",
              "      <td>-0.0356</td>\n",
              "      <td>&gt;=50k</td>\n",
              "    </tr>\n",
              "    <tr>\n",
              "      <td>Private</td>\n",
              "      <td>11th</td>\n",
              "      <td>Never-married</td>\n",
              "      <td>Farming-fishing</td>\n",
              "      <td>Own-child</td>\n",
              "      <td>White</td>\n",
              "      <td>Male</td>\n",
              "      <td>United-States</td>\n",
              "      <td>False</td>\n",
              "      <td>-1.4357</td>\n",
              "      <td>-0.5064</td>\n",
              "      <td>-1.2046</td>\n",
              "      <td>-0.1459</td>\n",
              "      <td>-0.2164</td>\n",
              "      <td>-1.3316</td>\n",
              "      <td>&lt;50k</td>\n",
              "    </tr>\n",
              "    <tr>\n",
              "      <td>?</td>\n",
              "      <td>HS-grad</td>\n",
              "      <td>Married-civ-spouse</td>\n",
              "      <td>?</td>\n",
              "      <td>Husband</td>\n",
              "      <td>White</td>\n",
              "      <td>Male</td>\n",
              "      <td>United-States</td>\n",
              "      <td>False</td>\n",
              "      <td>-0.3362</td>\n",
              "      <td>-1.2685</td>\n",
              "      <td>-0.4224</td>\n",
              "      <td>-0.1459</td>\n",
              "      <td>-0.2164</td>\n",
              "      <td>-0.0356</td>\n",
              "      <td>&lt;50k</td>\n",
              "    </tr>\n",
              "    <tr>\n",
              "      <td>Private</td>\n",
              "      <td>Bachelors</td>\n",
              "      <td>Divorced</td>\n",
              "      <td>Adm-clerical</td>\n",
              "      <td>Unmarried</td>\n",
              "      <td>White</td>\n",
              "      <td>Female</td>\n",
              "      <td>United-States</td>\n",
              "      <td>False</td>\n",
              "      <td>-0.5561</td>\n",
              "      <td>-0.6714</td>\n",
              "      <td>1.1422</td>\n",
              "      <td>-0.1459</td>\n",
              "      <td>-0.2164</td>\n",
              "      <td>0.3694</td>\n",
              "      <td>&lt;50k</td>\n",
              "    </tr>\n",
              "  </tbody>\n",
              "</table>"
            ],
            "text/plain": [
              "<IPython.core.display.HTML object>"
            ]
          },
          "metadata": {
            "tags": []
          }
        }
      ]
    },
    {
      "cell_type": "code",
      "metadata": {
        "id": "1RJxiS7bU5aW",
        "colab_type": "code",
        "colab": {}
      },
      "source": [
        "learn = tabular_learner(data, layers=[200,100], metrics=accuracy)\n",
        "#                          architecture like resnet    metrics"
      ],
      "execution_count": 20,
      "outputs": []
    },
    {
      "cell_type": "code",
      "metadata": {
        "id": "2vi6oWYJU5aX",
        "colab_type": "code",
        "colab": {
          "base_uri": "https://localhost:8080/",
          "height": 80
        },
        "outputId": "d0c5982e-ced9-4d4d-9e4e-682e2dffc47a"
      },
      "source": [
        "learn.fit(1, 1e-2)"
      ],
      "execution_count": 21,
      "outputs": [
        {
          "output_type": "display_data",
          "data": {
            "text/html": [
              "<table border=\"1\" class=\"dataframe\">\n",
              "  <thead>\n",
              "    <tr style=\"text-align: left;\">\n",
              "      <th>epoch</th>\n",
              "      <th>train_loss</th>\n",
              "      <th>valid_loss</th>\n",
              "      <th>accuracy</th>\n",
              "      <th>time</th>\n",
              "    </tr>\n",
              "  </thead>\n",
              "  <tbody>\n",
              "    <tr>\n",
              "      <td>0</td>\n",
              "      <td>0.326549</td>\n",
              "      <td>0.362220</td>\n",
              "      <td>0.850000</td>\n",
              "      <td>00:08</td>\n",
              "    </tr>\n",
              "  </tbody>\n",
              "</table>"
            ],
            "text/plain": [
              "<IPython.core.display.HTML object>"
            ]
          },
          "metadata": {
            "tags": []
          }
        }
      ]
    },
    {
      "cell_type": "code",
      "metadata": {
        "id": "bdBO-AdHgAYG",
        "colab_type": "code",
        "colab": {}
      },
      "source": [
        "learn.save('stage-1')"
      ],
      "execution_count": 22,
      "outputs": []
    },
    {
      "cell_type": "code",
      "metadata": {
        "id": "cS6Vc1ErgLlf",
        "colab_type": "code",
        "colab": {}
      },
      "source": [
        "#exporting model\n",
        "learn.export()"
      ],
      "execution_count": 39,
      "outputs": []
    },
    {
      "cell_type": "markdown",
      "metadata": {
        "id": "TkDRNSxxU5aZ",
        "colab_type": "text"
      },
      "source": [
        "## Inference"
      ]
    },
    {
      "cell_type": "code",
      "metadata": {
        "id": "caN-dPMtgQXl",
        "colab_type": "code",
        "colab": {}
      },
      "source": [
        "#Now try to use this model to predict on the entire adults.csv file\n",
        "tabList = TabularList(df, cat_names=cat_names, cont_names=cont_names, procs=procs)"
      ],
      "execution_count": 23,
      "outputs": []
    },
    {
      "cell_type": "code",
      "metadata": {
        "id": "sgRZBZ-9gUzc",
        "colab_type": "code",
        "colab": {
          "base_uri": "https://localhost:8080/",
          "height": 1000
        },
        "outputId": "56e89a96-c7fc-4672-f583-3a97a4eb878e"
      },
      "source": [
        "#learner = load_learner(path, test=test)\n",
        "\n",
        "#Works\n",
        "for i in range(200):\n",
        "    row = df.iloc[800 + i]\n",
        "    print(learn.predict(row))"
      ],
      "execution_count": 38,
      "outputs": [
        {
          "output_type": "stream",
          "text": [
            "(Category tensor(0), tensor(0), tensor([0.9665, 0.0335]))\n",
            "(Category tensor(1), tensor(1), tensor([0.1915, 0.8085]))\n",
            "(Category tensor(0), tensor(0), tensor([0.9271, 0.0729]))\n",
            "(Category tensor(0), tensor(0), tensor([0.9517, 0.0483]))\n",
            "(Category tensor(0), tensor(0), tensor([0.6264, 0.3736]))\n",
            "(Category tensor(0), tensor(0), tensor([0.5840, 0.4160]))\n",
            "(Category tensor(0), tensor(0), tensor([0.6861, 0.3139]))\n",
            "(Category tensor(0), tensor(0), tensor([0.9913, 0.0087]))\n",
            "(Category tensor(0), tensor(0), tensor([0.9876, 0.0124]))\n",
            "(Category tensor(0), tensor(0), tensor([0.6811, 0.3189]))\n",
            "(Category tensor(1), tensor(1), tensor([0.2998, 0.7002]))\n",
            "(Category tensor(1), tensor(1), tensor([0.3111, 0.6889]))\n",
            "(Category tensor(0), tensor(0), tensor([0.8201, 0.1799]))\n",
            "(Category tensor(0), tensor(0), tensor([0.8005, 0.1995]))\n",
            "(Category tensor(0), tensor(0), tensor([0.9859, 0.0141]))\n",
            "(Category tensor(0), tensor(0), tensor([0.6708, 0.3292]))\n",
            "(Category tensor(0), tensor(0), tensor([0.6396, 0.3604]))\n",
            "(Category tensor(1), tensor(1), tensor([0.3168, 0.6832]))\n",
            "(Category tensor(0), tensor(0), tensor([0.6097, 0.3903]))\n",
            "(Category tensor(0), tensor(0), tensor([0.5987, 0.4013]))\n",
            "(Category tensor(0), tensor(0), tensor([0.9945, 0.0055]))\n",
            "(Category tensor(0), tensor(0), tensor([0.9315, 0.0685]))\n",
            "(Category tensor(0), tensor(0), tensor([9.9954e-01, 4.6066e-04]))\n",
            "(Category tensor(1), tensor(1), tensor([0.4477, 0.5523]))\n",
            "(Category tensor(0), tensor(0), tensor([0.7481, 0.2519]))\n",
            "(Category tensor(0), tensor(0), tensor([0.6755, 0.3245]))\n",
            "(Category tensor(0), tensor(0), tensor([0.9610, 0.0390]))\n",
            "(Category tensor(0), tensor(0), tensor([0.5725, 0.4275]))\n",
            "(Category tensor(0), tensor(0), tensor([0.6461, 0.3539]))\n",
            "(Category tensor(0), tensor(0), tensor([0.9718, 0.0282]))\n",
            "(Category tensor(0), tensor(0), tensor([9.9927e-01, 7.3347e-04]))\n",
            "(Category tensor(0), tensor(0), tensor([0.9559, 0.0441]))\n",
            "(Category tensor(1), tensor(1), tensor([0.4035, 0.5965]))\n",
            "(Category tensor(0), tensor(0), tensor([0.9631, 0.0369]))\n",
            "(Category tensor(0), tensor(0), tensor([0.9751, 0.0249]))\n",
            "(Category tensor(0), tensor(0), tensor([0.9658, 0.0342]))\n",
            "(Category tensor(0), tensor(0), tensor([0.5254, 0.4746]))\n",
            "(Category tensor(0), tensor(0), tensor([0.6175, 0.3825]))\n",
            "(Category tensor(0), tensor(0), tensor([0.9793, 0.0207]))\n",
            "(Category tensor(0), tensor(0), tensor([0.9478, 0.0522]))\n",
            "(Category tensor(0), tensor(0), tensor([0.5500, 0.4500]))\n",
            "(Category tensor(0), tensor(0), tensor([0.5522, 0.4478]))\n",
            "(Category tensor(0), tensor(0), tensor([0.7894, 0.2106]))\n",
            "(Category tensor(0), tensor(0), tensor([0.9323, 0.0677]))\n",
            "(Category tensor(0), tensor(0), tensor([9.9921e-01, 7.8697e-04]))\n",
            "(Category tensor(0), tensor(0), tensor([0.8003, 0.1997]))\n",
            "(Category tensor(0), tensor(0), tensor([0.9763, 0.0237]))\n",
            "(Category tensor(1), tensor(1), tensor([0.3991, 0.6009]))\n",
            "(Category tensor(0), tensor(0), tensor([0.7779, 0.2221]))\n",
            "(Category tensor(0), tensor(0), tensor([0.7009, 0.2991]))\n",
            "(Category tensor(0), tensor(0), tensor([0.9523, 0.0477]))\n",
            "(Category tensor(0), tensor(0), tensor([0.9589, 0.0411]))\n",
            "(Category tensor(0), tensor(0), tensor([0.9968, 0.0032]))\n",
            "(Category tensor(0), tensor(0), tensor([0.9611, 0.0389]))\n",
            "(Category tensor(0), tensor(0), tensor([0.9807, 0.0193]))\n",
            "(Category tensor(0), tensor(0), tensor([0.9975, 0.0025]))\n",
            "(Category tensor(1), tensor(1), tensor([0.2837, 0.7163]))\n",
            "(Category tensor(0), tensor(0), tensor([0.7431, 0.2569]))\n",
            "(Category tensor(0), tensor(0), tensor([0.9983, 0.0017]))\n",
            "(Category tensor(0), tensor(0), tensor([0.9946, 0.0054]))\n",
            "(Category tensor(0), tensor(0), tensor([0.5919, 0.4081]))\n",
            "(Category tensor(0), tensor(0), tensor([0.9989, 0.0011]))\n",
            "(Category tensor(0), tensor(0), tensor([0.9347, 0.0653]))\n",
            "(Category tensor(0), tensor(0), tensor([0.6515, 0.3485]))\n",
            "(Category tensor(0), tensor(0), tensor([0.8725, 0.1275]))\n",
            "(Category tensor(0), tensor(0), tensor([0.5600, 0.4400]))\n",
            "(Category tensor(0), tensor(0), tensor([0.6580, 0.3420]))\n",
            "(Category tensor(0), tensor(0), tensor([0.9225, 0.0775]))\n",
            "(Category tensor(0), tensor(0), tensor([0.9905, 0.0095]))\n",
            "(Category tensor(0), tensor(0), tensor([0.9166, 0.0834]))\n",
            "(Category tensor(0), tensor(0), tensor([0.6404, 0.3596]))\n",
            "(Category tensor(1), tensor(1), tensor([0.4746, 0.5254]))\n",
            "(Category tensor(0), tensor(0), tensor([0.9944, 0.0056]))\n",
            "(Category tensor(0), tensor(0), tensor([0.9704, 0.0296]))\n",
            "(Category tensor(0), tensor(0), tensor([0.5226, 0.4774]))\n",
            "(Category tensor(0), tensor(0), tensor([0.9633, 0.0367]))\n",
            "(Category tensor(0), tensor(0), tensor([0.9946, 0.0054]))\n",
            "(Category tensor(1), tensor(1), tensor([0.4155, 0.5845]))\n",
            "(Category tensor(0), tensor(0), tensor([0.9896, 0.0104]))\n",
            "(Category tensor(1), tensor(1), tensor([0.3899, 0.6101]))\n",
            "(Category tensor(0), tensor(0), tensor([0.9614, 0.0386]))\n",
            "(Category tensor(0), tensor(0), tensor([0.9866, 0.0134]))\n",
            "(Category tensor(0), tensor(0), tensor([0.6177, 0.3823]))\n",
            "(Category tensor(0), tensor(0), tensor([9.9975e-01, 2.4660e-04]))\n",
            "(Category tensor(1), tensor(1), tensor([0.4504, 0.5496]))\n",
            "(Category tensor(0), tensor(0), tensor([0.9821, 0.0179]))\n",
            "(Category tensor(0), tensor(0), tensor([0.9417, 0.0583]))\n",
            "(Category tensor(0), tensor(0), tensor([0.9900, 0.0100]))\n",
            "(Category tensor(0), tensor(0), tensor([0.5278, 0.4722]))\n",
            "(Category tensor(1), tensor(1), tensor([0.4789, 0.5211]))\n",
            "(Category tensor(1), tensor(1), tensor([0.3617, 0.6383]))\n",
            "(Category tensor(0), tensor(0), tensor([0.9620, 0.0380]))\n",
            "(Category tensor(0), tensor(0), tensor([0.9243, 0.0757]))\n",
            "(Category tensor(0), tensor(0), tensor([0.5927, 0.4073]))\n",
            "(Category tensor(1), tensor(1), tensor([0.2883, 0.7117]))\n",
            "(Category tensor(0), tensor(0), tensor([9.9957e-01, 4.2997e-04]))\n",
            "(Category tensor(0), tensor(0), tensor([0.9786, 0.0214]))\n",
            "(Category tensor(0), tensor(0), tensor([0.9968, 0.0032]))\n",
            "(Category tensor(0), tensor(0), tensor([9.9935e-01, 6.4809e-04]))\n",
            "(Category tensor(0), tensor(0), tensor([0.8433, 0.1567]))\n",
            "(Category tensor(0), tensor(0), tensor([0.5284, 0.4716]))\n",
            "(Category tensor(0), tensor(0), tensor([0.6254, 0.3746]))\n",
            "(Category tensor(0), tensor(0), tensor([0.8279, 0.1721]))\n",
            "(Category tensor(0), tensor(0), tensor([0.7466, 0.2534]))\n",
            "(Category tensor(0), tensor(0), tensor([0.9945, 0.0055]))\n",
            "(Category tensor(0), tensor(0), tensor([0.9869, 0.0131]))\n",
            "(Category tensor(1), tensor(1), tensor([0.2488, 0.7512]))\n",
            "(Category tensor(0), tensor(0), tensor([0.6545, 0.3455]))\n",
            "(Category tensor(0), tensor(0), tensor([0.7684, 0.2316]))\n",
            "(Category tensor(0), tensor(0), tensor([9.9979e-01, 2.1031e-04]))\n",
            "(Category tensor(0), tensor(0), tensor([0.9763, 0.0237]))\n",
            "(Category tensor(0), tensor(0), tensor([0.9805, 0.0195]))\n",
            "(Category tensor(0), tensor(0), tensor([0.5872, 0.4128]))\n",
            "(Category tensor(0), tensor(0), tensor([0.9624, 0.0376]))\n",
            "(Category tensor(0), tensor(0), tensor([0.9091, 0.0909]))\n",
            "(Category tensor(0), tensor(0), tensor([0.8100, 0.1900]))\n",
            "(Category tensor(0), tensor(0), tensor([0.7937, 0.2063]))\n",
            "(Category tensor(0), tensor(0), tensor([0.9878, 0.0122]))\n",
            "(Category tensor(0), tensor(0), tensor([0.8946, 0.1054]))\n",
            "(Category tensor(0), tensor(0), tensor([0.9979, 0.0021]))\n",
            "(Category tensor(0), tensor(0), tensor([0.9961, 0.0039]))\n",
            "(Category tensor(0), tensor(0), tensor([0.9433, 0.0567]))\n",
            "(Category tensor(0), tensor(0), tensor([0.9777, 0.0223]))\n",
            "(Category tensor(0), tensor(0), tensor([0.9915, 0.0085]))\n",
            "(Category tensor(0), tensor(0), tensor([0.6170, 0.3830]))\n",
            "(Category tensor(0), tensor(0), tensor([0.6352, 0.3648]))\n",
            "(Category tensor(0), tensor(0), tensor([0.8260, 0.1740]))\n",
            "(Category tensor(0), tensor(0), tensor([0.9990, 0.0010]))\n",
            "(Category tensor(0), tensor(0), tensor([0.6647, 0.3353]))\n",
            "(Category tensor(0), tensor(0), tensor([0.9947, 0.0053]))\n",
            "(Category tensor(1), tensor(1), tensor([0.4917, 0.5083]))\n",
            "(Category tensor(0), tensor(0), tensor([0.9368, 0.0632]))\n",
            "(Category tensor(0), tensor(0), tensor([0.8661, 0.1339]))\n",
            "(Category tensor(0), tensor(0), tensor([0.9985, 0.0015]))\n",
            "(Category tensor(0), tensor(0), tensor([0.9768, 0.0232]))\n",
            "(Category tensor(0), tensor(0), tensor([0.6937, 0.3063]))\n",
            "(Category tensor(0), tensor(0), tensor([0.9417, 0.0583]))\n",
            "(Category tensor(0), tensor(0), tensor([0.6250, 0.3750]))\n",
            "(Category tensor(0), tensor(0), tensor([0.9798, 0.0202]))\n",
            "(Category tensor(0), tensor(0), tensor([0.7401, 0.2599]))\n",
            "(Category tensor(0), tensor(0), tensor([0.9728, 0.0272]))\n",
            "(Category tensor(0), tensor(0), tensor([0.8236, 0.1764]))\n",
            "(Category tensor(0), tensor(0), tensor([0.5676, 0.4324]))\n",
            "(Category tensor(0), tensor(0), tensor([0.5742, 0.4258]))\n",
            "(Category tensor(0), tensor(0), tensor([0.9955, 0.0045]))\n",
            "(Category tensor(0), tensor(0), tensor([0.6935, 0.3065]))\n",
            "(Category tensor(0), tensor(0), tensor([0.8630, 0.1370]))\n",
            "(Category tensor(1), tensor(1), tensor([0.2810, 0.7190]))\n",
            "(Category tensor(0), tensor(0), tensor([0.6281, 0.3719]))\n",
            "(Category tensor(1), tensor(1), tensor([0.2687, 0.7313]))\n",
            "(Category tensor(0), tensor(0), tensor([0.6314, 0.3686]))\n",
            "(Category tensor(0), tensor(0), tensor([0.8159, 0.1841]))\n",
            "(Category tensor(1), tensor(1), tensor([0.1129, 0.8871]))\n",
            "(Category tensor(0), tensor(0), tensor([0.9988, 0.0012]))\n",
            "(Category tensor(1), tensor(1), tensor([0.4584, 0.5416]))\n",
            "(Category tensor(1), tensor(1), tensor([0.4472, 0.5528]))\n",
            "(Category tensor(0), tensor(0), tensor([0.9691, 0.0309]))\n",
            "(Category tensor(0), tensor(0), tensor([0.6094, 0.3906]))\n",
            "(Category tensor(0), tensor(0), tensor([0.7837, 0.2163]))\n",
            "(Category tensor(0), tensor(0), tensor([0.9574, 0.0426]))\n",
            "(Category tensor(0), tensor(0), tensor([0.5674, 0.4326]))\n",
            "(Category tensor(0), tensor(0), tensor([0.5870, 0.4130]))\n",
            "(Category tensor(1), tensor(1), tensor([0.3220, 0.6780]))\n",
            "(Category tensor(1), tensor(1), tensor([0.3863, 0.6137]))\n",
            "(Category tensor(0), tensor(0), tensor([0.8924, 0.1076]))\n",
            "(Category tensor(0), tensor(0), tensor([0.9831, 0.0169]))\n",
            "(Category tensor(0), tensor(0), tensor([0.9804, 0.0196]))\n",
            "(Category tensor(0), tensor(0), tensor([0.9810, 0.0190]))\n",
            "(Category tensor(0), tensor(0), tensor([0.8835, 0.1165]))\n",
            "(Category tensor(0), tensor(0), tensor([0.6646, 0.3354]))\n",
            "(Category tensor(0), tensor(0), tensor([0.9933, 0.0067]))\n",
            "(Category tensor(0), tensor(0), tensor([0.9773, 0.0227]))\n",
            "(Category tensor(1), tensor(1), tensor([0.4022, 0.5978]))\n",
            "(Category tensor(0), tensor(0), tensor([0.8756, 0.1244]))\n",
            "(Category tensor(0), tensor(0), tensor([0.5950, 0.4050]))\n",
            "(Category tensor(1), tensor(1), tensor([0.4050, 0.5950]))\n",
            "(Category tensor(0), tensor(0), tensor([0.9790, 0.0210]))\n",
            "(Category tensor(0), tensor(0), tensor([0.8724, 0.1276]))\n",
            "(Category tensor(0), tensor(0), tensor([0.7948, 0.2052]))\n",
            "(Category tensor(1), tensor(1), tensor([0.1357, 0.8643]))\n",
            "(Category tensor(0), tensor(0), tensor([0.9621, 0.0379]))\n",
            "(Category tensor(0), tensor(0), tensor([0.6903, 0.3097]))\n",
            "(Category tensor(0), tensor(0), tensor([0.5582, 0.4418]))\n",
            "(Category tensor(0), tensor(0), tensor([0.5849, 0.4151]))\n",
            "(Category tensor(0), tensor(0), tensor([0.7738, 0.2262]))\n",
            "(Category tensor(0), tensor(0), tensor([0.8265, 0.1735]))\n",
            "(Category tensor(0), tensor(0), tensor([0.7316, 0.2684]))\n",
            "(Category tensor(0), tensor(0), tensor([0.6296, 0.3704]))\n",
            "(Category tensor(0), tensor(0), tensor([0.9412, 0.0588]))\n",
            "(Category tensor(0), tensor(0), tensor([0.9811, 0.0189]))\n",
            "(Category tensor(0), tensor(0), tensor([0.5901, 0.4099]))\n",
            "(Category tensor(1), tensor(1), tensor([0.3092, 0.6908]))\n",
            "(Category tensor(0), tensor(0), tensor([0.6457, 0.3543]))\n",
            "(Category tensor(0), tensor(0), tensor([0.9976, 0.0024]))\n",
            "(Category tensor(0), tensor(0), tensor([0.9981, 0.0019]))\n",
            "(Category tensor(1), tensor(1), tensor([0.4840, 0.5160]))\n",
            "(Category tensor(0), tensor(0), tensor([0.7410, 0.2590]))\n",
            "(Category tensor(0), tensor(0), tensor([0.8746, 0.1254]))\n",
            "(Category tensor(0), tensor(0), tensor([0.6269, 0.3731]))\n",
            "(Category tensor(0), tensor(0), tensor([0.8025, 0.1975]))\n"
          ],
          "name": "stdout"
        }
      ]
    },
    {
      "cell_type": "code",
      "metadata": {
        "id": "IBhPncUFmmHj",
        "colab_type": "code",
        "colab": {}
      },
      "source": [
        ""
      ],
      "execution_count": null,
      "outputs": []
    }
  ]
}